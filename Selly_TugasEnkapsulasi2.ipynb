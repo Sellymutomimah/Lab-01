{
  "nbformat": 4,
  "nbformat_minor": 0,
  "metadata": {
    "colab": {
      "provenance": [],
      "include_colab_link": true
    },
    "kernelspec": {
      "name": "python3",
      "display_name": "Python 3"
    },
    "language_info": {
      "name": "python"
    }
  },
  "cells": [
    {
      "cell_type": "markdown",
      "metadata": {
        "id": "view-in-github",
        "colab_type": "text"
      },
      "source": [
        "<a href=\"https://colab.research.google.com/github/Sellymutomimah/Lab-01/blob/main/Selly_TugasEnkapsulasi2.ipynb\" target=\"_parent\"><img src=\"https://colab.research.google.com/assets/colab-badge.svg\" alt=\"Open In Colab\"/></a>"
      ]
    },
    {
      "cell_type": "markdown",
      "source": [
        "Buatlah kelas RekeningBank dengan atribut berikut:\n",
        "\n",
        "*   nama_pemilik (private)\n",
        "*   saldo (private)\n",
        "\n",
        "Berikan metode berikut:\n",
        "\n",
        "*   __init__: Menginisialisasi saldo dan nama_pemilik.\n",
        "*   set_saldo: Mengubah nilai saldo.\n",
        "*   get_saldo: Mengembalikan nilai saldo.\n",
        "*   set_nama_pemilik: Mengubah nama pemilik.\n",
        "*   get_nama_pemilik: Mengembalikan nama pemilik.\n",
        "\n",
        "\n",
        "\n",
        "\n",
        "\n",
        "\n",
        "\n",
        "\n"
      ],
      "metadata": {
        "id": "PktiI90eS6Ee"
      }
    },
    {
      "cell_type": "code",
      "source": [
        "# Desain class\n",
        "class Rekening_Bank():\n",
        "  def __init__(self,Pemilik,saldo):\n",
        "    self.__Pemilik = Pemilik\n",
        "    self.__saldo = saldo\n",
        "\n",
        "  def get_Pemilik(self):\n",
        "    return self.__Pemilik\n",
        "\n",
        "  def set_Pemilik(self,Pemilik):\n",
        "    self.__Pemilik = Pemilik\n",
        "\n",
        "  def get_saldo(self):\n",
        "    return self.__saldo\n",
        "\n",
        "  def set_saldo(self,saldo):\n",
        "    if saldo > 10000000:\n",
        "      self.__saldo = 9000000\n",
        "    elif saldo < 500000:\n",
        "      self.__saldo = 400000\n",
        "    else:\n",
        "      self.__saldo = saldo"
      ],
      "metadata": {
        "id": "Pyj-mkyciVfk"
      },
      "execution_count": 26,
      "outputs": []
    },
    {
      "cell_type": "code",
      "source": [
        "#Program utama untuk mendemonstrasikan class RekeningBank\n",
        "\n",
        "Mandiri = Rekening_Bank('Selly Mutomimah',5000000)\n",
        "\n",
        "#menunjukkan penggunaan semua fungsi yang ada\n",
        "print(Mandiri.get_Pemilik())\n",
        "print(Mandiri.get_saldo())\n",
        "\n",
        "#print sebelum  set\n",
        "print(f'Nama pemilik Rekening Bank adalah {Mandiri.get_Pemilik()} dan mempunyai saldo sebesar {Mandiri.get_saldo()}')\n",
        "\n",
        "#setelah  set\n",
        "Mandiri.set_Pemilik( \"selly\")\n",
        "Mandiri.set_saldo(10000000)\n",
        "\n",
        "#print sesudah di set\n",
        "print(f'Nama pemilik Rekening Bank adalah {Mandiri.get_Pemilik()} dan mempunyai saldo sebesar {Mandiri.get_saldo()}')\n",
        ""
      ],
      "metadata": {
        "id": "aOwy6rfdSga2",
        "colab": {
          "base_uri": "https://localhost:8080/"
        },
        "outputId": "508b1cdb-f6e6-4542-de5e-c7fb9e421b68"
      },
      "execution_count": 29,
      "outputs": [
        {
          "output_type": "stream",
          "name": "stdout",
          "text": [
            "Selly Mutomimah\n",
            "5000000\n",
            "Nama pemilik Rekening Bank adalah Selly Mutomimah dan mempunyai saldo sebesar 5000000\n",
            "Nama pemilik Rekening Bank adalah selly dan mempunyai saldo sebesar 10000000\n"
          ]
        }
      ]
    }
  ]
}