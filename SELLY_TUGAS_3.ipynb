{
  "cells": [
    {
      "cell_type": "markdown",
      "metadata": {
        "id": "view-in-github",
        "colab_type": "text"
      },
      "source": [
        "<a href=\"https://colab.research.google.com/github/Sellymutomimah/Lab-01/blob/main/SELLY_TUGAS_3.ipynb\" target=\"_parent\"><img src=\"https://colab.research.google.com/assets/colab-badge.svg\" alt=\"Open In Colab\"/></a>"
      ]
    },
    {
      "cell_type": "markdown",
      "metadata": {
        "id": "L_pWgCSsxucj"
      },
      "source": [
        "Copy tugas 2 dengan google colab dengan nama TugasEnkapsulasi3\n",
        "Tambahkan fungsi/method setor dan tarik\n",
        "Untuk fungsi setor berarti akan menambahkan saldo\n",
        "Fungsi tarik akan mengurangi saldo jika jumlah tariknya tidak melebihi saldo. Jika saldo tidak cukup untuk melakukan penarikan, maka tidak akan merubah saldo.\n",
        "Buatlah demo pada program utama untuk menunjukkan fitur-fitur program yang telah anda buat!\n",
        "Upload di github dan kumpulkan link repo github di sini!"
      ]
    },
    {
      "cell_type": "code",
      "execution_count": 8,
      "metadata": {
        "id": "NzEDKHElxU-y"
      },
      "outputs": [],
      "source": [
        "class RekeningBank:\n",
        "  def __init__(self, nama_pemilik, saldo, setor, tarik):\n",
        "    self.__nama_pemilik = nama_pemilik\n",
        "    self.__saldo = saldo\n",
        "    self.__setor = setor\n",
        "    self.__tarik = tarik\n",
        "\n",
        "  def set_saldo(self, saldo):\n",
        "   if saldo > 5000000:\n",
        "    self.__saldo = 6000000\n",
        "   elif saldo < 5000000:\n",
        "    self.__saldo = 4000000\n",
        "   else:\n",
        "    self.__saldo = saldo\n",
        "  def get_saldo(self):\n",
        "    return self.__saldo\n",
        "\n",
        "  def set_nama_pemilik(self, nama_pemilik):\n",
        "    self.__nama_pemilik = nama_pemilik\n",
        "  def get_nama_pemilik(self):\n",
        "    return self.__nama_pemilik\n",
        "\n",
        "  def set_setor(self,setor):\n",
        "    self.__setor = setor\n",
        "  def get_setor(self):\n",
        "    return self.__setor\n",
        "\n",
        "  def set_tarik(self,tarik):\n",
        "    self.__tarik = tarik\n",
        "  def get_tarik(self):\n",
        "    return self.__tarik\n",
        "\n",
        "  def get_setormoney(self):\n",
        "    return print(\"berhasil! saldo anda sekarang Rp.\",self.__saldo + self.__setor)\n",
        "\n",
        "  def set_tarikmoney(self):\n",
        "    if self.__saldo > self.__tarik :\n",
        "      print(\"berhasil! sisa saldo anda Rp.\", self.__saldo-self.__tarik)\n",
        "    else:\n",
        "      print(\"saldo tidak cukup\")\n",
        "\n"
      ]
    },
    {
      "cell_type": "code",
      "execution_count": 13,
      "metadata": {
        "colab": {
          "base_uri": "https://localhost:8080/"
        },
        "id": "YpuFrCS51Pg0",
        "outputId": "8926448e-1b53-47a4-cb70-e8f4a691af73"
      },
      "outputs": [
        {
          "output_type": "stream",
          "name": "stdout",
          "text": [
            "berhasil! saldo anda sekarang Rp. 11200000\n",
            "berhasil! sisa saldo anda Rp. 9700000\n",
            "berhasil! saldo anda sekarang Rp. 16000000\n",
            "saldo tidak cukup\n"
          ]
        }
      ],
      "source": [
        "BRI = RekeningBank(\"selly\",10000000,1200000,300000)\n",
        "BRI.get_setormoney()\n",
        "BRI.set_tarikmoney()\n",
        "\n",
        "BRI.set_setor(10000000)\n",
        "BRI.set_saldo(10000000)\n",
        "BRI.set_tarik(40000000)\n",
        "\n",
        "BRI.get_setormoney()\n",
        "BRI.set_tarikmoney()"
      ]
    },
    {
      "cell_type": "markdown",
      "metadata": {
        "id": "4oncxK4i2zY9"
      },
      "source": []
    }
  ],
  "metadata": {
    "colab": {
      "provenance": [],
      "authorship_tag": "ABX9TyOV2J/EI1z4f+M7qP97GtTs",
      "include_colab_link": true
    },
    "kernelspec": {
      "display_name": "Python 3",
      "name": "python3"
    },
    "language_info": {
      "name": "python"
    }
  },
  "nbformat": 4,
  "nbformat_minor": 0
}