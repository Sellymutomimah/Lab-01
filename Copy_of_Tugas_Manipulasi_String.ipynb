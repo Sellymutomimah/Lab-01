{
  "nbformat": 4,
  "nbformat_minor": 0,
  "metadata": {
    "colab": {
      "provenance": [],
      "include_colab_link": true
    },
    "kernelspec": {
      "name": "python3",
      "display_name": "Python 3"
    },
    "language_info": {
      "name": "python"
    }
  },
  "cells": [
    {
      "cell_type": "markdown",
      "metadata": {
        "id": "view-in-github",
        "colab_type": "text"
      },
      "source": [
        "<a href=\"https://colab.research.google.com/github/Sellymutomimah/Lab-01/blob/main/Copy_of_Tugas_Manipulasi_String.ipynb\" target=\"_parent\"><img src=\"https://colab.research.google.com/assets/colab-badge.svg\" alt=\"Open In Colab\"/></a>"
      ]
    },
    {
      "cell_type": "markdown",
      "source": [
        "buatlah class Catatan dengan atribut\n",
        "1. nama (string)\n",
        "2. nomor_absen (intejer)\n",
        "3. catatan (string)\n",
        "\n",
        "buat fungsi untuk\n",
        "1. menggabungkan semua atribut diatas menjadi sebuah kalimat menggunakan pertambahan string\n",
        "2. mencari kata dalam sebuah kalimat menggunakan fungsi in\n",
        "3. menggandakan jumlah kalimat menggunakan tanda perkalian *\n",
        "4. menghitung jumlah huruf dalam kalimat menggunakan len\n",
        "5. mencari kata pertama dalam kalimat menggunakan startswith"
      ],
      "metadata": {
        "id": "AIkziXKoHrlK"
      }
    },
    {
      "cell_type": "code",
      "source": [
        "#desain class\n",
        "class Catatan:\n",
        "  def __init__(self, nama, noabsen, catatan):\n",
        "    self.nama = nama\n",
        "    self.noabsen = str(noabsen)\n",
        "    self.catatan = catatan\n",
        "\n",
        "  def gabung(self):\n",
        "    hasil = 'nama =' + ' ' + self.nama + ', ' + 'no absen = ' + ' ' + self.noabsen + ' ' + 'catatannya' + ' '+self.catatan\n",
        "    return hasil\n",
        "\n",
        "  def tampil(self):\n",
        "    print(self.gabung())\n",
        "\n",
        "  def cari(self):\n",
        "    print(self.nama in self.gabung())\n",
        "\n",
        "  def hitung(self):\n",
        "    print(len(self.gabung()))\n",
        "\n",
        "  def ganda(self):\n",
        "    print(self.nama * 2)\n",
        "\n",
        "  def pertama(self):\n",
        "    print(str(self.nama).startswith('t'))\n",
        "\n"
      ],
      "metadata": {
        "id": "_YQuLGp_IA93"
      },
      "execution_count": 7,
      "outputs": []
    },
    {
      "cell_type": "code",
      "source": [
        "#main program\n",
        "siswa = Catatan('cinta', 30, 'dia adalah siswa yang sangat berprestasi di sekolahnya')\n",
        "siswa.gabung()\n",
        "siswa.tampil()\n",
        "siswa.cari()\n",
        "siswa.hitung()\n",
        "siswa.ganda()\n",
        "siswa.pertama()\n",
        ""
      ],
      "metadata": {
        "id": "QdIPVcTJID9Q",
        "colab": {
          "base_uri": "https://localhost:8080/"
        },
        "outputId": "4d52e9e2-b7b5-4e63-b289-0c2f94d2f7fa"
      },
      "execution_count": 8,
      "outputs": [
        {
          "output_type": "stream",
          "name": "stdout",
          "text": [
            "nama = cinta, no absen =  30 catatannya dia adalah siswa yang sangat berprestasi di sekolahnya\n",
            "True\n",
            "94\n",
            "cintacinta\n",
            "False\n"
          ]
        }
      ]
    }
  ]
}