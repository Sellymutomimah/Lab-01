{
  "nbformat": 4,
  "nbformat_minor": 0,
  "metadata": {
    "colab": {
      "provenance": [],
      "include_colab_link": true
    },
    "kernelspec": {
      "name": "python3",
      "display_name": "Python 3"
    },
    "language_info": {
      "name": "python"
    }
  },
  "cells": [
    {
      "cell_type": "markdown",
      "metadata": {
        "id": "view-in-github",
        "colab_type": "text"
      },
      "source": [
        "<a href=\"https://colab.research.google.com/github/Sellymutomimah/Lab-01/blob/main/selly_new_Tugas_Overloading_2.ipynb\" target=\"_parent\"><img src=\"https://colab.research.google.com/assets/colab-badge.svg\" alt=\"Open In Colab\"/></a>"
      ]
    },
    {
      "cell_type": "code",
      "execution_count": null,
      "metadata": {
        "id": "5zCytCeM1uD4"
      },
      "outputs": [],
      "source": [
        "#class Nama\n",
        "class nama:\n",
        "#Buat fungsi yang digunakan untuk mengabungkan nama dengan ketentuan nama depan, nama tengah, nama akhir, dan seterusnya dianggap 1 (satu) parameter\n",
        "  def nama_lengkap(self, *args):\n",
        "        jumlah = \"\"\n",
        "        for angka in args:\n",
        "            jumlah += angka\n",
        "        print(jumlah)\n",
        "#Buat fungsi yang digunakan untuk mengabungkan nama dengan ketentuan nama depan, nama tengah, nama akhir, dan seterusnya dianggap 1 (satu) parameter"
      ]
    },
    {
      "cell_type": "code",
      "source": [
        "#Buat main program\n",
        "nm = nama ()\n",
        "#Panggil fungsi untuk membuat nama lengkap 4 nama teman kalian\n",
        "nm.nama_lengkap(\"Selly \", \"Mutomimah \")\n",
        "nm.nama_lengkap(\"Manda \", \"Priya \", \"Nita \")\n",
        "nm.nama_lengkap(\"Anila \" \"Yaffa \", \"Zafirah \")\n",
        "nm.nama_lengkap(\"Anisa \", \"Yaffa \", \"Zafirah \")\n",
        "\n"
      ],
      "metadata": {
        "id": "liQBcJWZ12MN",
        "colab": {
          "base_uri": "https://localhost:8080/"
        },
        "outputId": "67bf2dbe-589e-4944-c5ac-8dccc5922635"
      },
      "execution_count": 18,
      "outputs": [
        {
          "output_type": "stream",
          "name": "stdout",
          "text": [
            "Selly Mutomimah \n",
            "Manda Priya Nita \n",
            "Anila Yaffa Zafirah \n",
            "Anisa Yaffa Zafirah \n"
          ]
        }
      ]
    },
    {
      "cell_type": "markdown",
      "source": [
        "Tulisakan kesimpulan dari materi Overloading menurut pemahaman anda!\n"
      ],
      "metadata": {
        "id": "COmY4lMQkCIr"
      }
    },
    {
      "cell_type": "markdown",
      "source": [
        "kondisi dimana kendaraan mengangkut muatan yang melebihi batas beban yang ditetapkan"
      ],
      "metadata": {
        "id": "lTBRmulIkuU_"
      }
    }
  ]
}